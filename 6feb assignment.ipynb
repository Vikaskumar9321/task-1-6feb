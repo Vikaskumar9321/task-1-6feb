{
 "cells": [
  {
   "cell_type": "markdown",
   "id": "e8fde7a0-6677-4943-8fed-fe6c62c5af22",
   "metadata": {},
   "source": [
    "#Ans 1"
   ]
  },
  {
   "cell_type": "code",
   "execution_count": 5,
   "id": "eb230b0f-aa01-411e-ac3a-d4f1ddf8c5fc",
   "metadata": {},
   "outputs": [],
   "source": [
    "def product_of_numbers(Ist):\n",
    "    flat_list = []\n",
    "    for item in Ist:\n",
    "        if type(item) == int:\n",
    "            flat_list.append(item)\n",
    "        elif type(item) == float:\n",
    "            flat_list.append(item)\n",
    "        elif  type(item) == tuple:\n",
    "            for sub_item in item:\n",
    "                if type(sub_item) == int:\n",
    "                    flat_list.append(sub_item)\n",
    "        elif type(item) == list:\n",
    "            for sub_item in item:\n",
    "                if type(sub_item) == int:\n",
    "                    flat_list.append(sub_item)\n",
    "        elif type(item) == set:\n",
    "            for sub_item in item:\n",
    "                if type(sub_item) == int:\n",
    "                    flat_list.append(sub_item)\n",
    "        elif type(item) == dict:\n",
    "            for key, value in item.items():\n",
    "                if type(key) == int:\n",
    "                    flat_list.append(key)\n",
    "                if type(value) == int:\n",
    "                    flat_list.append(value)\n",
    "                elif type(value) == list:\n",
    "                    for sub_item in value:\n",
    "                        if type(sub_item) == int:\n",
    "                            flat_list.append(sub_item)\n",
    "                elif type(value) == tuple:\n",
    "                    for sub_item in value:\n",
    "                        if type(sub_item) == int:\n",
    "                            flat_list.append(sub_item)\n",
    "    product = 1\n",
    "    for num in flat_list:\n",
    "        product *=num\n",
    "    return product    "
   ]
  },
  {
   "cell_type": "code",
   "execution_count": 6,
   "id": "c7aa70dd-f132-4db7-94b9-ab429080deb9",
   "metadata": {},
   "outputs": [
    {
     "name": "stdout",
     "output_type": "stream",
     "text": [
      "4134711838987085478833841242112000\n"
     ]
    }
   ],
   "source": [
    "list1=[1,2,3,4, [44,55,66, True], False, (34,56,78,89,34), {1,2,3,3,2,1}, {1:34, \"key2\": [55, 67, 78, 89], 4: (45, 22, 61, 34)}, [56, 'data science'], 'Machine Learning']\n",
    "print(product_of_numbers(list1))"
   ]
  },
  {
   "cell_type": "code",
   "execution_count": null,
   "id": "99a8906f-b501-473b-a4c2-e62575369b1d",
   "metadata": {},
   "outputs": [],
   "source": []
  }
 ],
 "metadata": {
  "kernelspec": {
   "display_name": "Python 3 (ipykernel)",
   "language": "python",
   "name": "python3"
  },
  "language_info": {
   "codemirror_mode": {
    "name": "ipython",
    "version": 3
   },
   "file_extension": ".py",
   "mimetype": "text/x-python",
   "name": "python",
   "nbconvert_exporter": "python",
   "pygments_lexer": "ipython3",
   "version": "3.10.8"
  }
 },
 "nbformat": 4,
 "nbformat_minor": 5
}
